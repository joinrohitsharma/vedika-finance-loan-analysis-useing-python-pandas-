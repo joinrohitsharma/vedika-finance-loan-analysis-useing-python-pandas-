{
 "cells": [
  {
   "cell_type": "code",
   "execution_count": 1,
   "id": "60ddd2d2-8799-40e6-9b59-433f3b509cfd",
   "metadata": {},
   "outputs": [],
   "source": [
    "#Risk Assessment\n"
   ]
  },
  {
   "cell_type": "code",
   "execution_count": 10,
   "id": "1a467d82-1081-4e7a-b8a4-079485ea40b4",
   "metadata": {},
   "outputs": [
    {
     "data": {
      "text/plain": [
       "nan"
      ]
     },
     "execution_count": 10,
     "metadata": {},
     "output_type": "execute_result"
    }
   ],
   "source": [
    "#What is the default rate for customers with CIBIL < 600?\n",
    "import pandas as pd\n",
    "df = pd.read_csv(r\"C:/Users/joinr/OneDrive/Documents/vedika_loan_data.csv\")\n",
    "\n",
    "\n",
    "(df[['CIBIL Score', 'Loan Status']]\n",
    " .dropna()\n",
    " .assign(CIBIL = pd.to_numeric(df['CIBIL Score'], errors='coerce'),\n",
    "         Status = df['Loan Status'].str.lower())\n",
    " .query(\"CIBIL < 600\")['Status']\n",
    " .eq('default').mean())"
   ]
  },
  {
   "cell_type": "code",
   "execution_count": null,
   "id": "28feb796-2106-4f23-ba40-487609e69a9c",
   "metadata": {},
   "outputs": [],
   "source": []
  },
  {
   "cell_type": "code",
   "execution_count": 16,
   "id": "6aee662d-c821-4059-9677-0a8cc5d3817a",
   "metadata": {},
   "outputs": [
    {
     "data": {
      "text/plain": [
       "Debt-to-Income Ratio\n",
       "(0.199, 0.3]    0.0\n",
       "(0.3, 0.4]      0.0\n",
       "(0.4, 0.5]      0.0\n",
       "(0.5, 0.6]      0.0\n",
       "(0.6, 0.7]      0.0\n",
       "Name: Default, dtype: float64"
      ]
     },
     "execution_count": 16,
     "metadata": {},
     "output_type": "execute_result"
    }
   ],
   "source": [
    "#How does default rate change with increasing Debt-to-Income ratio?\n",
    "df.dropna(subset=['Debt-to-Income Ratio', 'Loan Status']) \\\n",
    "  .assign(Default = df['Loan Status'].str.lower() == 'default') \\\n",
    "  .groupby(pd.qcut(df['Debt-to-Income Ratio'], q=5), observed=True)['Default'].mean()\n",
    "\n"
   ]
  },
  {
   "cell_type": "code",
   "execution_count": null,
   "id": "0677bf74-5275-47bb-b5e9-b6b608ad0821",
   "metadata": {},
   "outputs": [],
   "source": []
  },
  {
   "cell_type": "code",
   "execution_count": 20,
   "id": "5ac9a87f-a103-40ee-8ea1-3a93132c2927",
   "metadata": {},
   "outputs": [
    {
     "data": {
      "text/plain": [
       "nan"
      ]
     },
     "execution_count": 20,
     "metadata": {},
     "output_type": "execute_result"
    }
   ],
   "source": [
    "#What’s the average number of active loans for defaulters?\n",
    "df[df['Loan Status'].str.lower() == 'default']['Number of Active Loans'].mean()\n"
   ]
  },
  {
   "cell_type": "code",
   "execution_count": null,
   "id": "6bef68d8-fc56-40b4-9675-5e4f566a383c",
   "metadata": {},
   "outputs": [],
   "source": []
  },
  {
   "cell_type": "code",
   "execution_count": 22,
   "id": "8574c992-4023-421b-9b36-1945f3321b43",
   "metadata": {},
   "outputs": [
    {
     "data": {
      "text/plain": [
       "Previous Defaults\n",
       "No     7.138304\n",
       "Yes    7.195689\n",
       "Name: Days Overdue, dtype: float64"
      ]
     },
     "execution_count": 22,
     "metadata": {},
     "output_type": "execute_result"
    }
   ],
   "source": [
    "#Do customers with previous defaults have higher overdue days?\n",
    "df.dropna(subset=['Previous Defaults', 'Days Overdue']) \\\n",
    "  .groupby('Previous Defaults')['Days Overdue'].mean()\n"
   ]
  },
  {
   "cell_type": "code",
   "execution_count": null,
   "id": "70b612ab-e96d-4928-91c8-fd3279e83845",
   "metadata": {},
   "outputs": [],
   "source": []
  },
  {
   "cell_type": "code",
   "execution_count": 26,
   "id": "494c6bef-c34b-4cdc-9404-c425b5755c76",
   "metadata": {},
   "outputs": [
    {
     "data": {
      "text/plain": [
       "Credit Card Dues Outstanding\n",
       "(-0.001, 1003.0]    7.232038\n",
       "(1003.0, 2014.0]    7.053111\n",
       "(2014.0, 3012.0]    7.169883\n",
       "(3012.0, 4009.0]    7.261313\n",
       "(4009.0, 4999.0]    7.118702\n",
       "Name: Days Overdue, dtype: float64"
      ]
     },
     "execution_count": 26,
     "metadata": {},
     "output_type": "execute_result"
    }
   ],
   "source": [
    "#How does Credit Card Dues Outstanding relate to EMI payment delays?\n",
    "df.dropna(subset=['Credit Card Dues Outstanding', 'Days Overdue']) \\\n",
    "  .groupby(pd.qcut(df['Credit Card Dues Outstanding'], q=5), observed=True)['Days Overdue'].mean()\n",
    "\n"
   ]
  },
  {
   "cell_type": "code",
   "execution_count": null,
   "id": "2a755644-5b48-494b-9053-e13c61e282c6",
   "metadata": {},
   "outputs": [],
   "source": []
  },
  {
   "cell_type": "code",
   "execution_count": 52,
   "id": "6aab7443-6d4c-4d01-827b-9c36c025da6f",
   "metadata": {},
   "outputs": [
    {
     "data": {
      "text/plain": [
       "Loan Status\n",
       "active    16663\n",
       "Name: count, dtype: int64"
      ]
     },
     "execution_count": 52,
     "metadata": {},
     "output_type": "execute_result"
    }
   ],
   "source": [
    "#Can we predict defaults using CIBIL + Income + Loan Amount?\n",
    "df_model['Loan Status'].str.lower().value_counts()\n"
   ]
  },
  {
   "cell_type": "code",
   "execution_count": 54,
   "id": "8797cf89-be30-491e-b314-70d5a64e57f5",
   "metadata": {},
   "outputs": [],
   "source": [
    "df_model['Loan Status'] = df_model['Loan Status'].str.strip().str.lower()"
   ]
  },
  {
   "cell_type": "code",
   "execution_count": 56,
   "id": "bf9baf8f-f6e4-49b3-ba77-e9830a43057b",
   "metadata": {},
   "outputs": [
    {
     "data": {
      "text/plain": [
       "Loan Status\n",
       "active    16663\n",
       "Name: count, dtype: int64"
      ]
     },
     "execution_count": 56,
     "metadata": {},
     "output_type": "execute_result"
    }
   ],
   "source": [
    "df_model['Loan Status'].value_counts()"
   ]
  },
  {
   "cell_type": "code",
   "execution_count": null,
   "id": "5a2e652c-b835-4a4b-bf22-f49ccf0ce484",
   "metadata": {},
   "outputs": [],
   "source": []
  },
  {
   "cell_type": "code",
   "execution_count": 97,
   "id": "97707465-f24a-4d3c-b34c-cc16f2b99b39",
   "metadata": {},
   "outputs": [],
   "source": [
    "#Which 5 customers have highest predicted default risk?\n",
    "df_model = df[['Customer ID', 'CIBIL Score', 'Annual Income', 'Loan Amount', 'Loan Status']].dropna()\n",
    "df_model = df_model[df_model['Loan Status'].str.lower().isin(['default', 'active'])]\n",
    "df_model['Default_Flag'] = df_model['Loan Status'].str.lower() == 'default'\n",
    "\n",
    "\n",
    "\n"
   ]
  },
  {
   "cell_type": "code",
   "execution_count": null,
   "id": "4491f6b0-0fd8-4789-8c71-be649afe328c",
   "metadata": {},
   "outputs": [],
   "source": []
  }
 ],
 "metadata": {
  "kernelspec": {
   "display_name": "Python [conda env:base] *",
   "language": "python",
   "name": "conda-base-py"
  },
  "language_info": {
   "codemirror_mode": {
    "name": "ipython",
    "version": 3
   },
   "file_extension": ".py",
   "mimetype": "text/x-python",
   "name": "python",
   "nbconvert_exporter": "python",
   "pygments_lexer": "ipython3",
   "version": "3.12.7"
  }
 },
 "nbformat": 4,
 "nbformat_minor": 5
}
