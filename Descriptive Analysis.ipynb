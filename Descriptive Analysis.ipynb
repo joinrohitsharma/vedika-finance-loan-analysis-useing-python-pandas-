{
 "cells": [
  {
   "cell_type": "code",
   "execution_count": 2,
   "id": "e365b43e-fed6-4119-93a5-76d9fde88ae4",
   "metadata": {},
   "outputs": [],
   "source": [
    "#What’s the average Loan Amount by Loan Type?\n",
    "\n",
    "import pandas as pd\n",
    "df = pd.read_csv(r\"C:/Users/joinr/OneDrive/Documents/vedika_loan_data.csv\")"
   ]
  },
  {
   "cell_type": "code",
   "execution_count": 4,
   "id": "5a54ffbb-3b00-4c66-9062-10a247732434",
   "metadata": {},
   "outputs": [
    {
     "name": "stdout",
     "output_type": "stream",
     "text": [
      "<class 'pandas.core.frame.DataFrame'>\n",
      "RangeIndex: 50000 entries, 0 to 49999\n",
      "Data columns (total 2 columns):\n",
      " #   Column       Non-Null Count  Dtype \n",
      "---  ------       --------------  ----- \n",
      " 0   Loan Type    50000 non-null  object\n",
      " 1   Loan Amount  50000 non-null  int64 \n",
      "dtypes: int64(1), object(1)\n",
      "memory usage: 781.4+ KB\n"
     ]
    }
   ],
   "source": [
    "df[['Loan Type', 'Loan Amount']].info()"
   ]
  },
  {
   "cell_type": "code",
   "execution_count": 10,
   "id": "a4e92f4a-0ba6-40df-a732-1e5e47c93590",
   "metadata": {},
   "outputs": [],
   "source": [
    "df_clean = df[['Loan Type', 'Loan Amount']].dropna()\n",
    "df_clean = df_clean[df_clean['Loan Amount'] > 0]"
   ]
  },
  {
   "cell_type": "code",
   "execution_count": 12,
   "id": "767d8726-fbee-4ca9-aea6-60c369e0b942",
   "metadata": {},
   "outputs": [],
   "source": [
    "avg_loan_by_type = df_clean.groupby('Loan Type')['Loan Amount'].mean().reset_index()\n",
    "avg_loan_by_type.columns = ['Loan Type', 'Average Loan Amount']"
   ]
  },
  {
   "cell_type": "code",
   "execution_count": 14,
   "id": "cff5ad3e-91e8-42b6-870e-5c3aad97a4b3",
   "metadata": {},
   "outputs": [],
   "source": [
    "avg_loan_by_type = df_clean.groupby('Loan Type')['Loan Amount'].mean().reset_index()\n",
    "avg_loan_by_type.columns = ['Loan Type', 'Average Loan Amount']"
   ]
  },
  {
   "cell_type": "code",
   "execution_count": 16,
   "id": "87ae5edb-c18a-420e-afa2-9cd0ce22bddc",
   "metadata": {},
   "outputs": [
    {
     "name": "stdout",
     "output_type": "stream",
     "text": [
      "               Loan Type  Average Loan Amount\n",
      "0        E-Rickshaw Loan         34962.476746\n",
      "1             Group Loan         35209.573130\n",
      "2  Micro Enterprise Loan         34927.194885\n",
      "3              WASH Loan         35168.742363\n"
     ]
    }
   ],
   "source": [
    "print(avg_loan_by_type)"
   ]
  },
  {
   "cell_type": "code",
   "execution_count": null,
   "id": "a0cacc7e-9f7f-42eb-a094-a47bc61e814a",
   "metadata": {},
   "outputs": [],
   "source": []
  },
  {
   "cell_type": "code",
   "execution_count": 63,
   "id": "650a9098-ac0f-494e-a50e-583baf9e7e93",
   "metadata": {
    "collapsed": true,
    "jupyter": {
     "outputs_hidden": true
    }
   },
   "outputs": [
    {
     "name": "stdout",
     "output_type": "stream",
     "text": [
      "<class 'pandas.core.frame.DataFrame'>\n",
      "RangeIndex: 50000 entries, 0 to 49999\n",
      "Data columns (total 2 columns):\n",
      " #   Column         Non-Null Count  Dtype  \n",
      "---  ------         --------------  -----  \n",
      " 0   Loan Purpose   50000 non-null  object \n",
      " 1   Interest Rate  50000 non-null  float64\n",
      "dtypes: float64(1), object(1)\n",
      "memory usage: 781.4+ KB\n"
     ]
    },
    {
     "data": {
      "image/png": "[encoded data removed]",
      "text/plain": [
       "<Figure size 1200x600 with 1 Axes>"
      ]
     },
     "metadata": {},
     "output_type": "display_data"
    }
   ],
   "source": [
    "# What's the distribution of Interest Rates across different Loan Purposes?\n",
    "\n",
    "\n",
    "import pandas as pd\n",
    "import matplotlib.pyplot as plt\n",
    "import seaborn as sns\n",
    "\n",
    "df = pd.read_csv(r\"C:/Users/joinr/OneDrive/Documents/vedika_loan_data.csv\")\n",
    "\n",
    "df[['Loan Purpose', 'Interest Rate']].info()\n",
    "\n",
    "df_clean = df[['Loan Purpose', 'Interest Rate']].dropna()\n",
    "df_clean = df_clean[(df_clean['Interest Rate'] > 0) & (df_clean['Interest Rate'] <= 60)]\n",
    "\n",
    "plt.figure(figsize=(12, 6))\n",
    "sns.boxplot(data=df_clean, x='Loan Purpose', y='Interest Rate')\n",
    "plt.xticks(rotation=45)\n",
    "plt.title('Distribution of Interest Rates by Loan Purpose')\n",
    "plt.tight_layout()\n",
    "plt.show()\n"
   ]
  },
  {
   "cell_type": "code",
   "execution_count": 105,
   "id": "57638b42-1c3c-43fd-8700-30134d1d3ef5",
   "metadata": {},
   "outputs": [],
   "source": [
    "#Which city/state has the highest total loan disbursement value?\n",
    "df.columns = df.columns.str.strip()"
   ]
  },
  {
   "cell_type": "code",
   "execution_count": 107,
   "id": "cb89f768-b025-447a-9216-f2b1ba1e0a35",
   "metadata": {
    "scrolled": true
   },
   "outputs": [
    {
     "data": {
      "text/plain": [
       "City\n",
       "Silchar        87820449\n",
       "Udaipur        86313460\n",
       "Kolkata        86107543\n",
       "Varanasi       85746157\n",
       "Kanpur         84990092\n",
       "Ranchi         84541972\n",
       "Dharmanagar    84512489\n",
       "Guwahati       84042270\n",
       "Gaya           83751340\n",
       "Lucknow        83578651\n",
       "Muzaffarpur    83550657\n",
       "Bhubaneswar    83518332\n",
       "Dhanbad        82856598\n",
       "Rourkela       82785147\n",
       "Jamshedpur     82658786\n",
       "Cuttack        82398605\n",
       "Asansol        82373469\n",
       "Siliguri       81581040\n",
       "Agartala       80192030\n",
       "Dibrugarh      80018578\n",
       "Patna          79930122\n",
       "Name: Loan Amount, dtype: int64"
      ]
     },
     "execution_count": 107,
     "metadata": {},
     "output_type": "execute_result"
    }
   ],
   "source": [
    "df[['City', 'Loan Amount']].dropna().query(\"`Loan Amount` > 0\") \\\n",
    "  .groupby('City')['Loan Amount'].sum().sort_values(ascending=False)"
   ]
  },
  {
   "cell_type": "code",
   "execution_count": null,
   "id": "e354c6c6-b5c6-4236-a369-094f4701c8a6",
   "metadata": {},
   "outputs": [],
   "source": []
  },
  {
   "cell_type": "code",
   "execution_count": 66,
   "id": "544ca422-a6f3-427f-9f8e-de86a3b6ff24",
   "metadata": {},
   "outputs": [],
   "source": [
    "#Which job titles have the highest average EMI?\n",
    "\n",
    "import pandas as pd\n",
    "df = pd.read_csv(r\"C:/Users/joinr/OneDrive/Documents/vedika_loan_data.csv\")"
   ]
  },
  {
   "cell_type": "code",
   "execution_count": null,
   "id": "cf7854e2-db95-4c8e-8fa1-44b5f1f91806",
   "metadata": {},
   "outputs": [],
   "source": []
  },
  {
   "cell_type": "code",
   "execution_count": 49,
   "id": "7d957eee-9a3d-47c3-b332-ff784af4b4fe",
   "metadata": {},
   "outputs": [
    {
     "data": {
      "text/html": [
       "<div>\n",
       "<style scoped>\n",
       "    .dataframe tbody tr th:only-of-type {\n",
       "        vertical-align: middle;\n",
       "    }\n",
       "\n",
       "    .dataframe tbody tr th {\n",
       "        vertical-align: top;\n",
       "    }\n",
       "\n",
       "    .dataframe thead th {\n",
       "        text-align: right;\n",
       "    }\n",
       "</style>\n",
       "<table border=\"1\" class=\"dataframe\">\n",
       "  <thead>\n",
       "    <tr style=\"text-align: right;\">\n",
       "      <th></th>\n",
       "      <th>Job Title</th>\n",
       "      <th>EMI Amount</th>\n",
       "    </tr>\n",
       "  </thead>\n",
       "  <tbody>\n",
       "    <tr>\n",
       "      <th>0</th>\n",
       "      <td>Owner</td>\n",
       "      <td>1976.69</td>\n",
       "    </tr>\n",
       "    <tr>\n",
       "      <th>1</th>\n",
       "      <td>Worker</td>\n",
       "      <td>1288.16</td>\n",
       "    </tr>\n",
       "    <tr>\n",
       "      <th>2</th>\n",
       "      <td>Worker</td>\n",
       "      <td>674.48</td>\n",
       "    </tr>\n",
       "    <tr>\n",
       "      <th>3</th>\n",
       "      <td>Worker</td>\n",
       "      <td>1025.94</td>\n",
       "    </tr>\n",
       "    <tr>\n",
       "      <th>4</th>\n",
       "      <td>Worker</td>\n",
       "      <td>3041.18</td>\n",
       "    </tr>\n",
       "  </tbody>\n",
       "</table>\n",
       "</div>"
      ],
      "text/plain": [
       "  Job Title  EMI Amount\n",
       "0     Owner     1976.69\n",
       "1    Worker     1288.16\n",
       "2    Worker      674.48\n",
       "3    Worker     1025.94\n",
       "4    Worker     3041.18"
      ]
     },
     "execution_count": 49,
     "metadata": {},
     "output_type": "execute_result"
    }
   ],
   "source": [
    "df[['Job Title', 'EMI Amount']].head()"
   ]
  },
  {
   "cell_type": "code",
   "execution_count": 51,
   "id": "4f50f962-9998-42d8-9548-0d0c3a081075",
   "metadata": {},
   "outputs": [],
   "source": [
    "df_clean = df[['Job Title', 'EMI Amount']].dropna()\n",
    "df_clean = df_clean[df_clean['EMI Amount'] > 0]"
   ]
  },
  {
   "cell_type": "code",
   "execution_count": 53,
   "id": "d26e1b94-bc23-441f-b04b-623c7ec6470f",
   "metadata": {},
   "outputs": [],
   "source": [
    "job_emi_avg = df_clean.groupby('Job Title')['EMI Amount'].mean().reset_index()"
   ]
  },
  {
   "cell_type": "code",
   "execution_count": 55,
   "id": "8f1227fc-a0bb-4e38-836a-e21184a653b5",
   "metadata": {},
   "outputs": [],
   "source": [
    "job_emi_avg = job_emi_avg.sort_values(by='EMI Amount', ascending=False)"
   ]
  },
  {
   "cell_type": "code",
   "execution_count": 57,
   "id": "54835991-3cce-49c0-b43e-e90730fcb62a",
   "metadata": {},
   "outputs": [
    {
     "name": "stdout",
     "output_type": "stream",
     "text": [
      "  Job Title   EMI Amount\n",
      "1    Worker  1828.531448\n",
      "0     Owner  1804.481654\n"
     ]
    }
   ],
   "source": [
    "print(job_emi_avg.head(10)) "
   ]
  },
  {
   "cell_type": "code",
   "execution_count": 59,
   "id": "0800b273-d23b-4763-b1e6-54f4f4dc213e",
   "metadata": {},
   "outputs": [
    {
     "data": {
      "text/plain": [
       "Job Title\n",
       "Worker    1828.531448\n",
       "Owner     1804.481654\n",
       "Name: EMI Amount, dtype: float64"
      ]
     },
     "execution_count": 59,
     "metadata": {},
     "output_type": "execute_result"
    }
   ],
   "source": [
    "df[['Job Title', 'EMI Amount']].dropna().query(\"`EMI Amount` > 0\").groupby('Job Title')['EMI Amount'].mean().sort_values(ascending=False)\n"
   ]
  },
  {
   "cell_type": "code",
   "execution_count": null,
   "id": "5d24dd25-0c28-4afa-9f2a-1d0e7cc1993d",
   "metadata": {},
   "outputs": [],
   "source": []
  },
  {
   "cell_type": "code",
   "execution_count": 70,
   "id": "2f31e55d-2723-4a03-b1c1-42cdd823b4ed",
   "metadata": {},
   "outputs": [],
   "source": [
    "#What's the average CIBIL Score across age groups?"
   ]
  },
  {
   "cell_type": "code",
   "execution_count": 87,
   "id": "08190bca-9426-41cd-859d-04afed6a6128",
   "metadata": {},
   "outputs": [
    {
     "data": {
      "text/plain": [
       "Age Group\n",
       "18–30    700.198291\n",
       "31–45    700.830139\n",
       "46–60    699.720620\n",
       "60+      700.654344\n",
       "Name: CIBIL Score, dtype: float64"
      ]
     },
     "execution_count": 87,
     "metadata": {},
     "output_type": "execute_result"
    }
   ],
   "source": [
    "pd.cut(df.dropna(subset=['Age', 'CIBIL Score']) \\\n",
    "        .query(\"Age >= 18 & `CIBIL Score` > 0\")['Age'], \n",
    "       bins=[18,30,45,60,100], labels=['18–30','31–45','46–60','60+']) \\\n",
    "    .to_frame(name='Age Group') \\\n",
    "    .join(df['CIBIL Score']) \\\n",
    "    .groupby('Age Group', observed=True)['CIBIL Score'].mean()\n"
   ]
  },
  {
   "cell_type": "code",
   "execution_count": null,
   "id": "e7b07eeb-8ede-466a-89fb-04e6144f2912",
   "metadata": {},
   "outputs": [],
   "source": []
  },
  {
   "cell_type": "code",
   "execution_count": 89,
   "id": "cb4dd200-6595-4053-8fcd-9edab3ce737a",
   "metadata": {},
   "outputs": [
    {
     "data": {
      "text/plain": [
       "DisbursalMonth\n",
       "2024-05    1575\n",
       "2024-06    1983\n",
       "2024-07    2130\n",
       "2024-08    2141\n",
       "2024-09    2003\n",
       "2024-10    2115\n",
       "2024-11    2042\n",
       "2024-12    2117\n",
       "Freq: M, dtype: int64"
      ]
     },
     "execution_count": 89,
     "metadata": {},
     "output_type": "execute_result"
    }
   ],
   "source": [
    "# What is the monthly trend in number of loans disbursed in last 12 months?\n",
    "\n",
    "df[pd.to_datetime(df['Loan Disbursal Date'], errors='coerce') >= pd.Timestamp.today() - pd.DateOffset(months=12)] \\\n",
    "    .assign(DisbursalMonth = pd.to_datetime(df['Loan Disbursal Date'], errors='coerce').dt.to_period('M')) \\\n",
    "    .groupby('DisbursalMonth').size()\n"
   ]
  },
  {
   "cell_type": "code",
   "execution_count": null,
   "id": "84d3e2fa-d9e1-487c-9246-e2c1d437d341",
   "metadata": {},
   "outputs": [],
   "source": []
  },
  {
   "cell_type": "code",
   "execution_count": 91,
   "id": "d794b8e6-4f08-4003-91c5-99683bcb6e63",
   "metadata": {},
   "outputs": [
    {
     "data": {
      "text/plain": [
       "Education Level\n",
       "Primary          35083.065351\n",
       "Post-Graduate    35077.078712\n",
       "Graduate         34997.783201\n",
       "Secondary        34907.584533\n",
       "Name: Loan Amount, dtype: float64"
      ]
     },
     "execution_count": 91,
     "metadata": {},
     "output_type": "execute_result"
    }
   ],
   "source": [
    "# Which education level group borrows the most on average?\n",
    "df[['Education Level', 'Loan Amount']].dropna().query(\"`Loan Amount` > 0\") \\\n",
    "  .groupby('Education Level')['Loan Amount'].mean().sort_values(ascending=False)"
   ]
  },
  {
   "cell_type": "code",
   "execution_count": null,
   "id": "6a0f9b55-56db-49fb-ba10-7029e7cb41ee",
   "metadata": {},
   "outputs": [],
   "source": []
  },
  {
   "cell_type": "code",
   "execution_count": 95,
   "id": "027b8b77-a2ec-4be6-afc6-8c7a093629c8",
   "metadata": {},
   "outputs": [
    {
     "data": {
      "text/plain": [
       "0"
      ]
     },
     "execution_count": 95,
     "metadata": {},
     "output_type": "execute_result"
    }
   ],
   "source": [
    "#How many customers have zero dependents and still defaulted?\n",
    "\n",
    "df.dropna(subset=['Number of Dependents', 'Loan Status']) \\\n",
    "  .query(\"`Number of Dependents` == 0 and `Loan Status`.str.lower() == 'default'\", engine='python') \\\n",
    "  .shape[0]"
   ]
  },
  {
   "cell_type": "code",
   "execution_count": null,
   "id": "78183d8f-f38b-41f2-a404-6856eaeb5e22",
   "metadata": {},
   "outputs": [],
   "source": []
  },
  {
   "cell_type": "code",
   "execution_count": 97,
   "id": "c1a55278-2fd0-42be-b04f-24ead5a0710c",
   "metadata": {},
   "outputs": [
    {
     "data": {
      "text/plain": [
       "-0.5591088627224606"
      ]
     },
     "execution_count": 97,
     "metadata": {},
     "output_type": "execute_result"
    }
   ],
   "source": [
    "#What is the relationship between loan tenure and EMI amount?\n",
    "\n",
    "df[['Loan Tenure', 'EMI Amount']].dropna().query(\"`Loan Tenure` > 0 & `EMI Amount` > 0\").corr().iloc[0,1]\n"
   ]
  },
  {
   "cell_type": "code",
   "execution_count": null,
   "id": "e8ece9ef-9bcc-4685-a14d-2fc243e155e8",
   "metadata": {},
   "outputs": [],
   "source": []
  },
  {
   "cell_type": "code",
   "execution_count": 99,
   "id": "2588af4f-b446-4e83-81d1-1f7180be1d3e",
   "metadata": {},
   "outputs": [
    {
     "data": {
      "text/plain": [
       "Employment Type\n",
       "Business Owner       0.451449\n",
       "Self-Employed        0.449457\n",
       "Daily Wage Worker    0.448963\n",
       "Salaried             0.448809\n",
       "Name: Loan-to-Income Ratio, dtype: float64"
      ]
     },
     "execution_count": 99,
     "metadata": {},
     "output_type": "execute_result"
    }
   ],
   "source": [
    "#What is the average Loan-to-Income ratio segmented by Employment Type?\n",
    "df[['Employment Type', 'Loan-to-Income Ratio']].dropna().query(\"`Loan-to-Income Ratio` > 0\") \\\n",
    "  .groupby('Employment Type')['Loan-to-Income Ratio'].mean().sort_values(ascending=False)\n"
   ]
  },
  {
   "cell_type": "code",
   "execution_count": null,
   "id": "51cf1de2-ea2b-4adf-914f-01a0d2861603",
   "metadata": {},
   "outputs": [],
   "source": []
  }
 ],
 "metadata": {
  "kernelspec": {
   "display_name": "Python [conda env:base] *",
   "language": "python",
   "name": "conda-base-py"
  },
  "language_info": {
   "codemirror_mode": {
    "name": "ipython",
    "version": 3
   },
   "file_extension": ".py",
   "mimetype": "text/x-python",
   "name": "python",
   "nbconvert_exporter": "python",
   "pygments_lexer": "ipython3",
   "version": "3.12.7"
  }
 },
 "nbformat": 4,
 "nbformat_minor": 5
}
