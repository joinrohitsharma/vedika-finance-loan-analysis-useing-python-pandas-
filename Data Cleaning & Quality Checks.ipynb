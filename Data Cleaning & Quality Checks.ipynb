{
 "cells": [
  {
   "cell_type": "code",
   "execution_count": 55,
   "id": "8b48a0f7-be54-400a-8553-f172cb5d308e",
   "metadata": {},
   "outputs": [],
   "source": [
    "#1. How many records have missing CIBIL, Experian, or Equifax scores?\n",
    "\n",
    "import pandas as pd\n",
    "df = pd.read_csv(r\"C:/Users/joinr/OneDrive/Documents/vedika_loan_data.csv\")\n",
    "\n"
   ]
  },
  {
   "cell_type": "code",
   "execution_count": 57,
   "id": "b242f07f-64b3-44c9-b15b-b2c5222c2b3d",
   "metadata": {},
   "outputs": [],
   "source": [
    "missing_cibil = df['CIBIL Score'].isnull().sum()\n",
    "missing_experian = df['Experian Score'].isnull().sum()\n",
    "missing_equifax = df['Equifax Score'].isnull().sum()"
   ]
  },
  {
   "cell_type": "code",
   "execution_count": 59,
   "id": "f095de73-77b8-45a3-9289-e032f31099ff",
   "metadata": {},
   "outputs": [
    {
     "name": "stdout",
     "output_type": "stream",
     "text": [
      "Missing CIBIL Score records: 0\n",
      "Missing Experian Score records: 0\n",
      "Missing Equifax Score records: 0\n"
     ]
    }
   ],
   "source": [
    "print(\"Missing CIBIL Score records:\", missing_cibil)\n",
    "print(\"Missing Experian Score records:\", missing_experian)\n",
    "print(\"Missing Equifax Score records:\", missing_equifax)"
   ]
  },
  {
   "cell_type": "code",
   "execution_count": 61,
   "id": "09f015dd-7aea-4a6e-a034-7c6a0f82f58b",
   "metadata": {},
   "outputs": [
    {
     "name": "stdout",
     "output_type": "stream",
     "text": [
      "Total records with at least one score missing: 0\n"
     ]
    }
   ],
   "source": [
    "missing_any_score = df[\n",
    "    df['CIBIL Score'].isnull() |\n",
    "    df['Experian Score'].isnull() |\n",
    "    df['Equifax Score'].isnull()\n",
    "]\n",
    "\n",
    "print(\"Total records with at least one score missing:\", missing_any_score.shape[0])"
   ]
  },
  {
   "cell_type": "code",
   "execution_count": 67,
   "id": "8de04e1a-2bef-4d3b-9908-a9b3216a2f3d",
   "metadata": {},
   "outputs": [],
   "source": [
    "missing_any_score.to_csv(\"records_with_missing_scores.csv\", index=False)"
   ]
  },
  {
   "cell_type": "code",
   "execution_count": null,
   "id": "1a46a53a-e368-4abc-95d8-81a25aef0951",
   "metadata": {},
   "outputs": [],
   "source": []
  },
  {
   "cell_type": "code",
   "execution_count": 84,
   "id": "3349baef-702e-4f54-90b6-7607436f4552",
   "metadata": {},
   "outputs": [],
   "source": [
    "#2. Are there customers with age <18 or >100?"
   ]
  },
  {
   "cell_type": "code",
   "execution_count": 94,
   "id": "397ed384-efec-4d8a-b965-aea8dc445d53",
   "metadata": {},
   "outputs": [
    {
     "name": "stdout",
     "output_type": "stream",
     "text": [
      "count    50000.00000\n",
      "mean        43.98662\n",
      "std         12.40860\n",
      "min         23.00000\n",
      "25%         33.00000\n",
      "50%         44.00000\n",
      "75%         55.00000\n",
      "max         65.00000\n",
      "Name: Age, dtype: float64\n",
      "Number of customers with age <18 or >100: 0\n"
     ]
    }
   ],
   "source": [
    "print(df['Age'].describe())\n",
    "age_issues = df[(df['Age'] < 18) | (df['Age'] > 100)]\n",
    "print(\"Number of customers with age <18 or >100:\", age_issues.shape[0])\n",
    "age_issues.to_csv(\"invalid_age_customers.csv\", index=False)"
   ]
  },
  {
   "cell_type": "code",
   "execution_count": null,
   "id": "bcd23c76-d333-4407-af54-7c643542f715",
   "metadata": {},
   "outputs": [],
   "source": []
  },
  {
   "cell_type": "code",
   "execution_count": 9,
   "id": "20c1c15f-075e-4b6a-a6b1-bb3b2006edd5",
   "metadata": {},
   "outputs": [],
   "source": [
    "#3. Do any records have EMI Amount = 0 but Loan Status = \"Active\"?"
   ]
  },
  {
   "cell_type": "code",
   "execution_count": 26,
   "id": "669cb9fd-e899-4c92-a044-3c2d7ff95a06",
   "metadata": {},
   "outputs": [
    {
     "name": "stdout",
     "output_type": "stream",
     "text": [
      "Number of active loans with EMI = 0: 0\n"
     ]
    }
   ],
   "source": [
    "import pandas as pd\n",
    "df = pd.read_csv(r\"C:/Users/joinr/OneDrive/Documents/vedika_loan_data.csv\")\n",
    "df['EMI Amount'] = pd.to_numeric(df['EMI Amount'], errors='coerce')\n",
    "emi_zero_active = df[(df['EMI Amount'] == 0) & (df['Loan Status'].str.lower() == 'active')]\n",
    "print(\"Number of active loans with EMI = 0:\", emi_zero_active.shape[0])\n"
   ]
  },
  {
   "cell_type": "code",
   "execution_count": null,
   "id": "6c8012e4-c6dd-4be0-9008-b49bf43eea9b",
   "metadata": {},
   "outputs": [],
   "source": []
  },
  {
   "cell_type": "code",
   "execution_count": null,
   "id": "93f37123-d82f-4192-8d74-0bd3740c51b7",
   "metadata": {},
   "outputs": [],
   "source": [
    " #4. How many duplicate Customer ID or Loan ID entries exist?"
   ]
  },
  {
   "cell_type": "code",
   "execution_count": 21,
   "id": "5f420f8a-a1a1-4fa1-974f-3061af893668",
   "metadata": {},
   "outputs": [
    {
     "name": "stdout",
     "output_type": "stream",
     "text": [
      "Duplicate Customer ID entries: 0\n",
      "Duplicate Loan ID entries: 0\n"
     ]
    }
   ],
   "source": [
    "import pandas as pd\n",
    "df = pd.read_csv(r\"C:/Users/joinr/OneDrive/Documents/vedika_loan_data.csv\")\n",
    "\n",
    "duplicate_customers = df[df.duplicated('Customer ID', keep=False)]\n",
    "print(\"Duplicate Customer ID entries:\", duplicate_customers.shape[0])\n",
    "\n",
    "duplicate_loans = df[df.duplicated('Loan ID', keep=False)]\n",
    "print(\"Duplicate Loan ID entries:\", duplicate_loans.shape[0])\n",
    "\n",
    "duplicate_customers.to_csv(\"duplicate_customer_ids.csv\", index=False)\n",
    "duplicate_loans.to_csv(\"duplicate_loan_ids.csv\", index=False)"
   ]
  },
  {
   "cell_type": "code",
   "execution_count": null,
   "id": "3a7acdbf-f7eb-4090-b744-b89ecd559e56",
   "metadata": {},
   "outputs": [],
   "source": []
  },
  {
   "cell_type": "code",
   "execution_count": 31,
   "id": "65883bca-f94c-4dac-a530-81333899df96",
   "metadata": {},
   "outputs": [],
   "source": [
    "#5. Are there invalid Contact Numbers or Aadhar Numbers?"
   ]
  },
  {
   "cell_type": "code",
   "execution_count": 33,
   "id": "88f1b592-482b-487a-a211-cd6d1feb4e34",
   "metadata": {},
   "outputs": [
    {
     "name": "stdout",
     "output_type": "stream",
     "text": [
      "Invalid Contact Numbers: 0\n",
      "Invalid Aadhar Numbers: 0\n"
     ]
    }
   ],
   "source": [
    "df['Contact Number'] = df['Contact Number'].astype(str).str.strip()\n",
    "df['Aadhar Number'] = df['Aadhar Number'].astype(str).str.strip()\n",
    "\n",
    "invalid_contact = df[~df['Contact Number'].str.match(r'^\\d{10}$')]\n",
    "print(\"Invalid Contact Numbers:\", invalid_contact.shape[0])\n",
    "\n",
    "invalid_aadhar = df[~df['Aadhar Number'].str.match(r'^\\d{12}$')]\n",
    "print(\"Invalid Aadhar Numbers:\", invalid_aadhar.shape[0])"
   ]
  },
  {
   "cell_type": "code",
   "execution_count": null,
   "id": "bb5d5788-fbd9-4d07-819a-4e9a07549194",
   "metadata": {},
   "outputs": [],
   "source": []
  }
 ],
 "metadata": {
  "kernelspec": {
   "display_name": "Python [conda env:base] *",
   "language": "python",
   "name": "conda-base-py"
  },
  "language_info": {
   "codemirror_mode": {
    "name": "ipython",
    "version": 3
   },
   "file_extension": ".py",
   "mimetype": "text/x-python",
   "name": "python",
   "nbconvert_exporter": "python",
   "pygments_lexer": "ipython3",
   "version": "3.12.7"
  }
 },
 "nbformat": 4,
 "nbformat_minor": 5
}
