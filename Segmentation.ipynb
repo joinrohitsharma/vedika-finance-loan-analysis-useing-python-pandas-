{
 "cells": [
  {
   "cell_type": "markdown",
   "id": "d8b6a507-8a2a-4d79-a0bb-cb6a0e6c646a",
   "metadata": {},
   "source": [
    "#Segmentation"
   ]
  },
  {
   "cell_type": "code",
   "execution_count": 5,
   "id": "c07ad639-e629-4e9c-b436-639db145a2d1",
   "metadata": {},
   "outputs": [
    {
     "data": {
      "text/plain": [
       "Segment\n",
       "On-time             26000\n",
       "Slightly Delayed    12457\n",
       "Chronic Delayers    11543\n",
       "Name: count, dtype: int64"
      ]
     },
     "execution_count": 5,
     "metadata": {},
     "output_type": "execute_result"
    }
   ],
   "source": [
    "#Segment customers by repayment behavior: On-time, Slightly Delayed, Chronic Delayers, Defaulters. What’s the size of each segment?\n",
    "import pandas as pd\n",
    "df = pd.read_csv(r\"C:/Users/joinr/OneDrive/Documents/vedika_loan_data.csv\")\n",
    "\n",
    "\n",
    "df.assign(Days = pd.to_numeric(df['Days Overdue'], errors='coerce').fillna(0),\n",
    "          Status = df['Loan Status'].str.lower()) \\\n",
    "  .assign(Segment=lambda x: x.apply(\n",
    "      lambda row: 'Defaulters' if row['Status'] == 'default'\n",
    "      else 'On-time' if row['Days'] == 0\n",
    "      else 'Slightly Delayed' if row['Days'] <= 15\n",
    "      else 'Chronic Delayers', axis=1)) \\\n",
    "  .Segment.value_counts()\n"
   ]
  },
  {
   "cell_type": "code",
   "execution_count": null,
   "id": "8772cfaa-64f6-4fc0-bdd3-ea47d1c7a23b",
   "metadata": {},
   "outputs": [],
   "source": []
  },
  {
   "cell_type": "code",
   "execution_count": 15,
   "id": "2096f5b1-380b-40ee-93b3-7f2048de6beb",
   "metadata": {},
   "outputs": [
    {
     "name": "stderr",
     "output_type": "stream",
     "text": [
      "C:\\Users\\joinr\\AppData\\Local\\Temp\\ipykernel_11932\\1778213017.py:5: DeprecationWarning: DataFrameGroupBy.apply operated on the grouping columns. This behavior is deprecated, and in a future version of pandas the grouping columns will be excluded from the operation. Either pass `include_groups=False` to exclude the groupings or explicitly select the grouping columns after groupby to silence this warning.\n",
      "  .apply(lambda x: (x['Status'] == 'default').mean()) \\\n"
     ]
    },
    {
     "data": {
      "text/plain": [
       "AgeGroup\n",
       "18–30    0.0\n",
       "31–45    0.0\n",
       "46–60    0.0\n",
       "60+      0.0\n",
       "dtype: float64"
      ]
     },
     "execution_count": 15,
     "metadata": {},
     "output_type": "execute_result"
    }
   ],
   "source": [
    "#Within age groups (18–30, 31–45, 46–60, 60+), which group has highest default ratio?\n",
    "\n",
    "df.dropna(subset=['Age', 'Loan Status']) \\\n",
    "  .assign(AgeGroup=pd.cut(df['Age'], bins=[18,30,45,60,120], labels=['18–30','31–45','46–60','60+']),\n",
    "          Status=df['Loan Status'].str.lower()) \\\n",
    "  .groupby('AgeGroup', observed=True) \\\n",
    "  .apply(lambda x: (x['Status'] == 'default').mean()) \\\n",
    "  .sort_values(ascending=False)\n",
    "\n",
    "\n"
   ]
  },
  {
   "cell_type": "code",
   "execution_count": null,
   "id": "d2f0bf77-ebbf-4bac-9f67-5e456b76a5d9",
   "metadata": {},
   "outputs": [],
   "source": []
  },
  {
   "cell_type": "code",
   "execution_count": 22,
   "id": "c9844a7f-6f71-46b4-8793-62217bf96aba",
   "metadata": {},
   "outputs": [
    {
     "data": {
      "text/plain": [
       "Employment Type    Education Level\n",
       "Business Owner     Graduate           0.0\n",
       "                   Post-Graduate      0.0\n",
       "                   Primary            0.0\n",
       "                   Secondary          0.0\n",
       "Daily Wage Worker  Graduate           0.0\n",
       "                   Post-Graduate      0.0\n",
       "                   Primary            0.0\n",
       "                   Secondary          0.0\n",
       "Salaried           Graduate           0.0\n",
       "                   Post-Graduate      0.0\n",
       "                   Primary            0.0\n",
       "                   Secondary          0.0\n",
       "Self-Employed      Graduate           0.0\n",
       "                   Post-Graduate      0.0\n",
       "                   Primary            0.0\n",
       "                   Secondary          0.0\n",
       "Name: Default, dtype: float64"
      ]
     },
     "execution_count": 22,
     "metadata": {},
     "output_type": "execute_result"
    }
   ],
   "source": [
    "#What’s the default rate by Employment Type and Education Level?\n",
    "\n",
    "df.dropna(subset=['Employment Type', 'Education Level', 'Loan Status']) \\\n",
    "  .assign(Status = df['Loan Status'].str.lower()) \\\n",
    "  .assign(Default = lambda x: x['Status'] == 'default') \\\n",
    "  .groupby(['Employment Type', 'Education Level'], observed=True)['Default'] \\\n",
    "  .mean().sort_values(ascending=False)\n"
   ]
  },
  {
   "cell_type": "code",
   "execution_count": null,
   "id": "63e68d44-4a22-4134-86cf-ec7b0c51a8b6",
   "metadata": {},
   "outputs": [],
   "source": []
  },
  {
   "cell_type": "code",
   "execution_count": 24,
   "id": "c534cb7d-5b17-4f78-9121-e334704a6e3b",
   "metadata": {},
   "outputs": [
    {
     "data": {
      "text/plain": [
       "CustomerType\n",
       "First-Time    35065.35574\n",
       "Name: Loan Amount, dtype: float64"
      ]
     },
     "execution_count": 24,
     "metadata": {},
     "output_type": "execute_result"
    }
   ],
   "source": [
    "#Compare loan amounts of first-time vs repeat customers (based on other loans with bank).\n",
    "\n",
    "df.merge(df.groupby('Customer ID')['Loan ID'].nunique().rename('Loan Count'), on='Customer ID') \\\n",
    "  .assign(CustomerType=lambda x: x['Loan Count'].apply(lambda n: 'First-Time' if n == 1 else 'Repeat')) \\\n",
    "  .groupby('CustomerType')['Loan Amount'].mean().sort_values(ascending=False)\n"
   ]
  },
  {
   "cell_type": "code",
   "execution_count": null,
   "id": "8db14ec5-bf74-4dd9-b3fc-a4f305e60a1e",
   "metadata": {},
   "outputs": [],
   "source": []
  },
  {
   "cell_type": "code",
   "execution_count": 28,
   "id": "387f8b14-8bdd-48ee-b61f-caf1d01823cd",
   "metadata": {},
   "outputs": [
    {
     "data": {
      "text/plain": [
       "Preferred Communication Mode\n",
       "App Notification    0.497204\n",
       "SMS                 0.491142\n",
       "Phone Call          0.489143\n",
       "Email               0.482781\n",
       "Name: LowFlag, dtype: float64"
      ]
     },
     "execution_count": 28,
     "metadata": {},
     "output_type": "execute_result"
    }
   ],
   "source": [
    "#Are low loyalty score customers concentrated in specific communication modes?\n",
    "\n",
    "\n",
    "df.dropna(subset=['Customer Loyalty Score', 'Preferred Communication Mode']) \\\n",
    "  .assign(Score = pd.to_numeric(df['Customer Loyalty Score'], errors='coerce')) \\\n",
    "  .assign(LowFlag = lambda x: x['Score'] < 50) \\\n",
    "  .groupby('Preferred Communication Mode')['LowFlag'].mean().sort_values(ascending=False)\n"
   ]
  },
  {
   "cell_type": "code",
   "execution_count": null,
   "id": "6f5ba251-935d-4cba-9749-91de62974394",
   "metadata": {},
   "outputs": [],
   "source": []
  }
 ],
 "metadata": {
  "kernelspec": {
   "display_name": "Python [conda env:base] *",
   "language": "python",
   "name": "conda-base-py"
  },
  "language_info": {
   "codemirror_mode": {
    "name": "ipython",
    "version": 3
   },
   "file_extension": ".py",
   "mimetype": "text/x-python",
   "name": "python",
   "nbconvert_exporter": "python",
   "pygments_lexer": "ipython3",
   "version": "3.12.7"
  }
 },
 "nbformat": 4,
 "nbformat_minor": 5
}
