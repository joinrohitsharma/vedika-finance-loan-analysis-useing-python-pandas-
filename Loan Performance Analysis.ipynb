{
 "cells": [
  {
   "cell_type": "code",
   "execution_count": 1,
   "id": "0f497dc7-7b24-4946-9446-c3a1c0af8929",
   "metadata": {},
   "outputs": [],
   "source": [
    "#Loan Performance Analysis"
   ]
  },
  {
   "cell_type": "code",
   "execution_count": 25,
   "id": "1eccdf29-8305-4227-8463-5c8fbb95e7a9",
   "metadata": {},
   "outputs": [
    {
     "name": "stdout",
     "output_type": "stream",
     "text": [
      "Overdue >30 days: 0.00%\n"
     ]
    }
   ],
   "source": [
    "print(\"Overdue >30 days: {:.2f}%\".format((df[df['Days Overdue'] > 30].shape[0] / df.shape[0]) * 100))\n"
   ]
  },
  {
   "cell_type": "code",
   "execution_count": null,
   "id": "646ea69c-5ea0-413b-8445-a1f3c2ab754b",
   "metadata": {},
   "outputs": [],
   "source": []
  },
  {
   "cell_type": "code",
   "execution_count": 29,
   "id": "82d10653-b1fc-4812-9e7e-7659cd4693f0",
   "metadata": {},
   "outputs": [],
   "source": [
    "#Which Loan Officer IDs have the highest default rate?\n",
    "\n",
    "default_rates = df[df['Loan Status'] == 'Default'].groupby('Loan Officer ID').size() / df.groupby('Loan Officer ID').size()\n"
   ]
  },
  {
   "cell_type": "code",
   "execution_count": 31,
   "id": "7030a49a-4083-472c-91e2-a17b7e8690f1",
   "metadata": {},
   "outputs": [
    {
     "data": {
      "text/plain": [
       "Loan Officer ID\n",
       "LO1    NaN\n",
       "LO10   NaN\n",
       "LO11   NaN\n",
       "LO12   NaN\n",
       "LO13   NaN\n",
       "dtype: float64"
      ]
     },
     "execution_count": 31,
     "metadata": {},
     "output_type": "execute_result"
    }
   ],
   "source": [
    "default_rates.sort_values(ascending=False).head()"
   ]
  },
  {
   "cell_type": "code",
   "execution_count": null,
   "id": "532426d7-db61-4980-b924-25ac30b00259",
   "metadata": {},
   "outputs": [],
   "source": []
  },
  {
   "cell_type": "code",
   "execution_count": null,
   "id": "1b4a07e3-a693-4106-8ea3-7886069f2849",
   "metadata": {},
   "outputs": [],
   "source": [
    "#Do married customers have better repayment records?"
   ]
  },
  {
   "cell_type": "code",
   "execution_count": 33,
   "id": "c9a576a1-b1de-4847-8569-df54e6dbc64c",
   "metadata": {},
   "outputs": [
    {
     "data": {
      "text/plain": [
       "Marital Status\n",
       "Divorced    7.209440\n",
       "Married     7.187490\n",
       "Single      7.105584\n",
       "Widowed     7.165112\n",
       "Name: Days Overdue, dtype: float64"
      ]
     },
     "execution_count": 33,
     "metadata": {},
     "output_type": "execute_result"
    }
   ],
   "source": [
    "df.groupby('Marital Status')['Days Overdue'].mean()\n"
   ]
  },
  {
   "cell_type": "code",
   "execution_count": 35,
   "id": "bac61b86-d262-41ff-802f-e9bda9e73a9e",
   "metadata": {},
   "outputs": [
    {
     "data": {
      "text/plain": [
       "Marital Status\n",
       "Divorced    47.928526\n",
       "Married     48.506504\n",
       "Single      47.560976\n",
       "Widowed     48.005469\n",
       "dtype: float64"
      ]
     },
     "execution_count": 35,
     "metadata": {},
     "output_type": "execute_result"
    }
   ],
   "source": [
    "(df[df['Days Overdue'] > 0].groupby('Marital Status').size() / df.groupby('Marital Status').size()) * 100"
   ]
  },
  {
   "cell_type": "code",
   "execution_count": null,
   "id": "9c780797-bc64-4268-98fb-d1c7e82d8b4d",
   "metadata": {},
   "outputs": [],
   "source": []
  },
  {
   "cell_type": "code",
   "execution_count": 39,
   "id": "cce05998-e5a6-4fee-a7d9-37d8f31d4e21",
   "metadata": {},
   "outputs": [
    {
     "data": {
      "text/plain": [
       "Monthly Income\n",
       "(0, 10000]        7.126055\n",
       "(10000, 20000]    7.273615\n",
       "(20000, 30000]    7.193939\n",
       "(30000, 50000]    7.097144\n",
       "Name: Days Overdue, dtype: float64"
      ]
     },
     "execution_count": 39,
     "metadata": {},
     "output_type": "execute_result"
    }
   ],
   "source": [
    "#How does EMI performance vary with Monthly Income bands?\n",
    "df.groupby(pd.cut(df['Monthly Income'], bins=[0, 10000, 20000, 30000, 50000, 100000]), observed=True)['Days Overdue'].mean()\n",
    "\n"
   ]
  },
  {
   "cell_type": "code",
   "execution_count": null,
   "id": "7b3c33fd-5647-4128-85b0-d6617a14d390",
   "metadata": {},
   "outputs": [],
   "source": []
  },
  {
   "cell_type": "code",
   "execution_count": 41,
   "id": "ccf22c46-d42a-4edb-9a5f-55025c11ec44",
   "metadata": {},
   "outputs": [
    {
     "data": {
      "text/plain": [
       "Industry Type\n",
       "Agriculture      48.639148\n",
       "IT               48.500953\n",
       "Manufacturing    47.903773\n",
       "Retail           47.783448\n",
       "Transport        47.181628\n",
       "dtype: float64"
      ]
     },
     "execution_count": 41,
     "metadata": {},
     "output_type": "execute_result"
    }
   ],
   "source": [
    "#Which industry types have the highest default rate?\n",
    "(df[df['Days Overdue'] > 0].groupby('Industry Type').size() / df.groupby('Industry Type').size()) * 100\n"
   ]
  },
  {
   "cell_type": "code",
   "execution_count": null,
   "id": "d6aa0e06-02a7-4852-a9a5-42987ed6d9ad",
   "metadata": {},
   "outputs": [],
   "source": []
  },
  {
   "cell_type": "code",
   "execution_count": 43,
   "id": "74f16206-67ce-439e-b6bf-e86d558f8702",
   "metadata": {},
   "outputs": [
    {
     "name": "stdout",
     "output_type": "stream",
     "text": [
      "Overdue loans with moratorium: 49.69%\n"
     ]
    }
   ],
   "source": [
    "#What percentage of overdue loans had a moratorium availed?\n",
    "\n",
    "print(\"Overdue loans with moratorium: {:.2f}%\".format(\n",
    "    (df[(df['Days Overdue'] > 0) & (df['Loan Moratorium Availed?'] == \"Yes\")].shape[0] / \n",
    "     df[df['Days Overdue'] > 0].shape[0]) * 100))\n"
   ]
  },
  {
   "cell_type": "code",
   "execution_count": null,
   "id": "cacf91c6-1ebb-4770-a3b9-dfa477764398",
   "metadata": {},
   "outputs": [],
   "source": []
  },
  {
   "cell_type": "code",
   "execution_count": 45,
   "id": "daeecf85-cb92-4d54-9c43-a77f5445dd47",
   "metadata": {},
   "outputs": [
    {
     "data": {
      "text/plain": [
       "Insurance Linked to Loan?\n",
       "No     48.046813\n",
       "Yes    47.953052\n",
       "dtype: float64"
      ]
     },
     "execution_count": 45,
     "metadata": {},
     "output_type": "execute_result"
    }
   ],
   "source": [
    "#Are customers with insurance linked less likely to default?\n",
    "\n",
    "(df[df['Days Overdue'] > 0].groupby(df['Insurance Linked to Loan?']).size() / df.groupby('Insurance Linked to Loan?').size()) * 100\n"
   ]
  },
  {
   "cell_type": "code",
   "execution_count": null,
   "id": "4134ffe6-4bf1-45c1-9acc-bed1de7cda73",
   "metadata": {},
   "outputs": [],
   "source": []
  },
  {
   "cell_type": "code",
   "execution_count": 47,
   "id": "81046488-ba0d-4449-aa53-27a2c1879d7c",
   "metadata": {},
   "outputs": [
    {
     "data": {
      "text/plain": [
       "0.0025703834302165593"
      ]
     },
     "execution_count": 47,
     "metadata": {},
     "output_type": "execute_result"
    }
   ],
   "source": [
    "#What is the correlation between number of dependents and overdue amount?\n",
    "\n",
    "df['Number of Dependents'].corr(df['Overdue Amount'])\n"
   ]
  },
  {
   "cell_type": "code",
   "execution_count": null,
   "id": "bf1d43aa-7192-43ca-8ce4-4343d3dd4cea",
   "metadata": {},
   "outputs": [],
   "source": []
  },
  {
   "cell_type": "code",
   "execution_count": 49,
   "id": "1071a269-fce7-4718-ac3f-ec0c41c0b783",
   "metadata": {},
   "outputs": [
    {
     "data": {
      "text/plain": [
       "Branch ID\n",
       "BR2     18991.234063\n",
       "BR20    18801.310145\n",
       "BR96    18629.885711\n",
       "BR37    18455.159551\n",
       "BR17    18444.584271\n",
       "            ...     \n",
       "BR57    16610.766449\n",
       "BR79    16547.235489\n",
       "BR6     16545.438811\n",
       "BR81    16537.370466\n",
       "BR11    16312.836667\n",
       "Name: Total Outstanding Amount, Length: 100, dtype: float64"
      ]
     },
     "execution_count": 49,
     "metadata": {},
     "output_type": "execute_result"
    }
   ],
   "source": [
    "#Which branches have the highest average outstanding per loan?\n",
    "\n",
    "df.groupby('Branch ID')['Total Outstanding Amount'].mean().sort_values(ascending=False)\n"
   ]
  },
  {
   "cell_type": "code",
   "execution_count": null,
   "id": "a1a5ee99-3422-4c75-a66e-f03c6d916618",
   "metadata": {},
   "outputs": [],
   "source": []
  },
  {
   "cell_type": "code",
   "execution_count": 53,
   "id": "4206eb6b-e20c-4f2c-9b35-a3a8e63b10a3",
   "metadata": {},
   "outputs": [
    {
     "data": {
      "text/plain": [
       "0"
      ]
     },
     "execution_count": 53,
     "metadata": {},
     "output_type": "execute_result"
    }
   ],
   "source": [
    "#How many customers paid more than the EMI amount regularly (prepaid)?\n",
    "\n",
    "df['Amount Paid'] = pd.to_numeric(df['Amount Paid'], errors='coerce')\n",
    "df['EMI Amount'] = pd.to_numeric(df['EMI Amount'], errors='coerce')\n",
    "\n",
    "df[df['Amount Paid'] > df['EMI Amount']]['Customer ID'].nunique()\n"
   ]
  },
  {
   "cell_type": "code",
   "execution_count": null,
   "id": "f9107e10-fdf3-4611-831a-f59b1ef23af9",
   "metadata": {},
   "outputs": [],
   "source": []
  }
 ],
 "metadata": {
  "kernelspec": {
   "display_name": "Python [conda env:base] *",
   "language": "python",
   "name": "conda-base-py"
  },
  "language_info": {
   "codemirror_mode": {
    "name": "ipython",
    "version": 3
   },
   "file_extension": ".py",
   "mimetype": "text/x-python",
   "name": "python",
   "nbconvert_exporter": "python",
   "pygments_lexer": "ipython3",
   "version": "3.12.7"
  }
 },
 "nbformat": 4,
 "nbformat_minor": 5
}
