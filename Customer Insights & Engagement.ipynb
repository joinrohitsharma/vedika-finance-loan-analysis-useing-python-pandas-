{
 "cells": [
  {
   "cell_type": "code",
   "execution_count": null,
   "id": "86f14094-8ff5-441d-b1f4-57e98b75e12a",
   "metadata": {},
   "outputs": [],
   "source": [
    "#Customer Insights & Engagement\n"
   ]
  },
  {
   "cell_type": "code",
   "execution_count": 3,
   "id": "2b664298-a011-4420-b6e9-7d46934e8932",
   "metadata": {},
   "outputs": [
    {
     "data": {
      "text/plain": [
       "Preferred Communication Mode\n",
       "App Notification    0.506790\n",
       "Phone Call          0.503593\n",
       "Email               0.503266\n",
       "SMS                 0.499034\n",
       "Name: Is_Consistent, dtype: float64"
      ]
     },
     "execution_count": 3,
     "metadata": {},
     "output_type": "execute_result"
    }
   ],
   "source": [
    "#Which communication mode shows the highest repayment consistency?\n",
    "import pandas as pd\n",
    "df = pd.read_csv(r\"C:/Users/joinr/OneDrive/Documents/vedika_loan_data.csv\")\n",
    "\n",
    "df[['Preferred Communication Mode', 'Overdue Amount']].dropna() \\\n",
    "  .assign(Is_Consistent = lambda x: x['Overdue Amount'] == 0) \\\n",
    "  .groupby('Preferred Communication Mode')['Is_Consistent'].mean() \\\n",
    "  .sort_values(ascending=False)\n"
   ]
  },
  {
   "cell_type": "code",
   "execution_count": null,
   "id": "fbbb4d65-0c7e-493e-a7a2-b8b624750443",
   "metadata": {},
   "outputs": [],
   "source": []
  },
  {
   "cell_type": "code",
   "execution_count": 9,
   "id": "bf60ddcc-1aa9-4abb-8e0a-3d16440a86cc",
   "metadata": {},
   "outputs": [
    {
     "data": {
      "text/plain": [
       "24841"
      ]
     },
     "execution_count": 9,
     "metadata": {},
     "output_type": "execute_result"
    }
   ],
   "source": [
    "#How many customers with complaints have overdue loans?\n",
    "\n",
    "df[['Customer ID', 'Customer Complaints', 'Overdue Amount']].dropna() \\\n",
    "  .assign(Customer_Complaints = lambda x: x['Customer Complaints'].astype(str).str.strip()) \\\n",
    "  .query(\"Customer_Complaints != '' and `Overdue Amount` > 0\")['Customer ID'].nunique()\n",
    "\n"
   ]
  },
  {
   "cell_type": "code",
   "execution_count": null,
   "id": "6f8acbef-fda5-4a3b-8709-b64897f5f624",
   "metadata": {},
   "outputs": [],
   "source": []
  },
  {
   "cell_type": "code",
   "execution_count": 13,
   "id": "9f687eaf-0ef7-4459-ad6f-94b765834e5e",
   "metadata": {},
   "outputs": [
    {
     "data": {
      "text/plain": [
       "50.43415875034779"
      ]
     },
     "execution_count": 13,
     "metadata": {},
     "output_type": "execute_result"
    }
   ],
   "source": [
    "#What is the average loyalty score of customers with perfect EMI record?\n",
    "\n",
    "df[df['Overdue Amount'] == 0]['Customer Loyalty Score'].dropna().mean()\n"
   ]
  },
  {
   "cell_type": "code",
   "execution_count": null,
   "id": "c5666b74-507d-47c4-8e78-02599173df1a",
   "metadata": {},
   "outputs": [],
   "source": []
  },
  {
   "cell_type": "code",
   "execution_count": 15,
   "id": "6f23f529-b003-4c54-89c8-7f7e12896d51",
   "metadata": {},
   "outputs": [
    {
     "data": {
      "text/plain": [
       "12595"
      ]
     },
     "execution_count": 15,
     "metadata": {},
     "output_type": "execute_result"
    }
   ],
   "source": [
    "#How many customers signed the loan agreement after disbursement?\n",
    "df[pd.to_datetime(df['Sanction Letter Date'], errors='coerce') > pd.to_datetime(df['Loan Disbursal Date'], errors='coerce')].shape[0]\n"
   ]
  },
  {
   "cell_type": "code",
   "execution_count": 17,
   "id": "cac76536-f51f-4733-9927-7710dabdc279",
   "metadata": {},
   "outputs": [
    {
     "data": {
      "text/plain": [
       "insurance\n",
       "False    0.502277\n",
       "True     0.505288\n",
       "Name: foreclosed, dtype: float64"
      ]
     },
     "execution_count": 17,
     "metadata": {},
     "output_type": "execute_result"
    }
   ],
   "source": [
    "#Are customers with bank-linked insurance less likely to foreclose?\n",
    "df.dropna(subset=['Insurance Linked to Loan?', 'Foreclosure Requested?']) \\\n",
    "  .assign(\n",
    "      insurance = df['Insurance Linked to Loan?'].astype(str).str.lower() == 'yes',\n",
    "      foreclosed = df['Foreclosure Requested?'].astype(str).str.lower() == 'yes'\n",
    "  ).groupby('insurance')['foreclosed'].mean()\n"
   ]
  },
  {
   "cell_type": "code",
   "execution_count": null,
   "id": "8e8588c9-46b2-4fc1-8e2a-bc0808895980",
   "metadata": {},
   "outputs": [],
   "source": []
  },
  {
   "cell_type": "code",
   "execution_count": 21,
   "id": "8dc16406-815a-44d2-ac29-42ddeee57516",
   "metadata": {},
   "outputs": [
    {
     "data": {
      "text/plain": [
       "multi_product\n",
       "False    0.496665\n",
       "True     0.496975\n",
       "Name: default, dtype: float64"
      ]
     },
     "execution_count": 21,
     "metadata": {},
     "output_type": "execute_result"
    }
   ],
   "source": [
    "#Do customers with more than 2 products with bank show lower default rate?\n",
    "df.dropna(subset=['Other Products with Bank', 'Overdue Amount']) \\\n",
    "  .assign(\n",
    "      multi_product = df['Other Products with Bank'] > 2,\n",
    "      default = df['Overdue Amount'] > 0\n",
    "  ).groupby('multi_product')['default'].mean()\n"
   ]
  },
  {
   "cell_type": "code",
   "execution_count": null,
   "id": "3286d977-cff4-4eb1-82a8-a516fa21f32a",
   "metadata": {},
   "outputs": [],
   "source": []
  },
  {
   "cell_type": "code",
   "execution_count": 25,
   "id": "2c762f5b-2a7d-40c0-9334-b19a38d5c23b",
   "metadata": {},
   "outputs": [
    {
     "data": {
      "text/plain": [
       "Bank Name\n",
       "Central Bank of India    0.510508\n",
       "Canara Bank              0.506627\n",
       "Indian Bank              0.505214\n",
       "State Bank of India      0.504884\n",
       "Bank of Maharashtra      0.504430\n",
       "Bank of India            0.499605\n",
       "Punjab National Bank     0.497215\n",
       "Bank of Baroda           0.497004\n",
       "Name: high_perf, dtype: float64"
      ]
     },
     "execution_count": 25,
     "metadata": {},
     "output_type": "execute_result"
    }
   ],
   "source": [
    "#Which banks (by name) are linked to higher-performing customers?\n",
    "\n",
    "df.dropna(subset=['Bank Name', 'Overdue Amount']) \\\n",
    "  .assign(high_perf = df['Overdue Amount'] == 0) \\\n",
    "  .groupby('Bank Name')['high_perf'].mean().sort_values(ascending=False)\n"
   ]
  },
  {
   "cell_type": "code",
   "execution_count": null,
   "id": "5ea1b014-c305-468b-b843-7c4176326a06",
   "metadata": {},
   "outputs": [],
   "source": []
  },
  {
   "cell_type": "code",
   "execution_count": 27,
   "id": "a9690fbc-97a3-42a4-8b87-4c9a0d2b9792",
   "metadata": {},
   "outputs": [
    {
     "data": {
      "text/plain": [
       "Bank Name\n",
       "Central Bank of India    0.510508\n",
       "Canara Bank              0.506627\n",
       "Indian Bank              0.505214\n",
       "State Bank of India      0.504884\n",
       "Bank of Maharashtra      0.504430\n",
       "Bank of India            0.499605\n",
       "Punjab National Bank     0.497215\n",
       "Bank of Baroda           0.497004\n",
       "Name: high_perf, dtype: float64"
      ]
     },
     "execution_count": 27,
     "metadata": {},
     "output_type": "execute_result"
    }
   ],
   "source": [
    "#What’s the average disbursement time across top 5 fastest branches?\n",
    "\n",
    "df.dropna(subset=['Bank Name', 'Overdue Amount']) \\\n",
    "  .assign(high_perf = df['Overdue Amount'] == 0) \\\n",
    "  .groupby('Bank Name')['high_perf'].mean().sort_values(ascending=False)\n"
   ]
  },
  {
   "cell_type": "code",
   "execution_count": null,
   "id": "9672a3b5-6a97-419c-b024-b7e85ff50d39",
   "metadata": {},
   "outputs": [],
   "source": []
  },
  {
   "cell_type": "code",
   "execution_count": 29,
   "id": "bbd6f634-acbf-45de-8131-d4a81b0f14ce",
   "metadata": {},
   "outputs": [
    {
     "data": {
      "text/plain": [
       "Customer Complaints\n",
       "3    0.508670\n",
       "0    0.498986\n",
       "4    0.497180\n",
       "1    0.494426\n",
       "2    0.491904\n",
       "5    0.489437\n",
       "Name: issue, dtype: float64"
      ]
     },
     "execution_count": 29,
     "metadata": {},
     "output_type": "execute_result"
    }
   ],
   "source": [
    "#Which complaint types correlate with payment issues?\n",
    "\n",
    "df.dropna(subset=['Customer Complaints', 'Overdue Amount']) \\\n",
    "  .assign(issue = df['Overdue Amount'] > 0) \\\n",
    "  .groupby('Customer Complaints')['issue'].mean().sort_values(ascending=False)\n"
   ]
  },
  {
   "cell_type": "code",
   "execution_count": null,
   "id": "28ca1660-6433-45c8-81ba-0bf675a6bb9b",
   "metadata": {},
   "outputs": [],
   "source": []
  },
  {
   "cell_type": "code",
   "execution_count": 31,
   "id": "4693a870-17e2-4788-bf1a-630d9a92c533",
   "metadata": {},
   "outputs": [
    {
     "data": {
      "text/plain": [
       "49.81082480385519"
      ]
     },
     "execution_count": 31,
     "metadata": {},
     "output_type": "execute_result"
    }
   ],
   "source": [
    "#What percent of fraud-flagged accounts are also overdue?\n",
    "(df[(df['Fraud Flag'].astype(str).str.lower() == 'yes') & (df['Overdue Amount'] > 0)].shape[0] /\n",
    " df[df['Fraud Flag'].astype(str).str.lower() == 'yes'].shape[0]) * 100\n"
   ]
  },
  {
   "cell_type": "code",
   "execution_count": null,
   "id": "5c2982ea-abf8-4d89-8f1e-33a85195931f",
   "metadata": {},
   "outputs": [],
   "source": []
  }
 ],
 "metadata": {
  "kernelspec": {
   "display_name": "Python [conda env:base] *",
   "language": "python",
   "name": "conda-base-py"
  },
  "language_info": {
   "codemirror_mode": {
    "name": "ipython",
    "version": 3
   },
   "file_extension": ".py",
   "mimetype": "text/x-python",
   "name": "python",
   "nbconvert_exporter": "python",
   "pygments_lexer": "ipython3",
   "version": "3.12.7"
  }
 },
 "nbformat": 4,
 "nbformat_minor": 5
}
